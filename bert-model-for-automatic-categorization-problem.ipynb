{
 "metadata": {
  "kernelspec": {
   "language": "python",
   "display_name": "Python 3",
   "name": "python3"
  },
  "language_info": {
   "name": "python",
   "version": "3.7.9",
   "mimetype": "text/x-python",
   "codemirror_mode": {
    "name": "ipython",
    "version": 3
   },
   "pygments_lexer": "ipython3",
   "nbconvert_exporter": "python",
   "file_extension": ".py"
  }
 },
 "nbformat_minor": 4,
 "nbformat": 4,
 "cells": [
  {
   "cell_type": "code",
   "source": [
    "import numpy as np\n",
    "import re\n",
    "import torch\n",
    "from torch.utils.data import TensorDataset, DataLoader\n",
    "\n",
    "from transformers import BertModel, BertTokenizer\n",
    "from transformers import RobertaTokenizer, RobertaModel\n",
    "from transformers import DistilBertTokenizer, DistilBertModel\n",
    "\n",
    "from sklearn.metrics.pairwise import cosine_similarity\n",
    "from sklearn.metrics.pairwise import euclidean_distances\n",
    "import time\n",
    "from sklearn.metrics import silhouette_score\n",
    "import pickle"
   ],
   "metadata": {
    "execution": {
     "iopub.status.busy": "2022-09-08T19:22:54.891443Z",
     "iopub.execute_input": "2022-09-08T19:22:54.891811Z",
     "iopub.status.idle": "2022-09-08T19:22:57.581093Z",
     "shell.execute_reply.started": "2022-09-08T19:22:54.891730Z",
     "shell.execute_reply": "2022-09-08T19:22:57.580337Z"
    },
    "trusted": true,
    "pycharm": {
     "name": "#%%\n"
    }
   },
   "execution_count": 1,
   "outputs": []
  },
  {
   "cell_type": "code",
   "source": [
    "!nvidia-smi"
   ],
   "metadata": {
    "execution": {
     "iopub.status.busy": "2022-09-08T19:22:57.584986Z",
     "iopub.execute_input": "2022-09-08T19:22:57.585297Z",
     "iopub.status.idle": "2022-09-08T19:22:58.616217Z",
     "shell.execute_reply.started": "2022-09-08T19:22:57.585269Z",
     "shell.execute_reply": "2022-09-08T19:22:58.615222Z"
    },
    "trusted": true,
    "pycharm": {
     "name": "#%%\n"
    }
   },
   "execution_count": 2,
   "outputs": []
  },
  {
   "cell_type": "code",
   "source": [
    "# kmeanstf uses gpu for computation it's faster a bit\n",
    "!pip install kmeanstf --quiet"
   ],
   "metadata": {
    "execution": {
     "iopub.status.busy": "2022-09-08T19:23:07.893337Z",
     "iopub.execute_input": "2022-09-08T19:23:07.893693Z",
     "iopub.status.idle": "2022-09-08T19:23:16.067265Z",
     "shell.execute_reply.started": "2022-09-08T19:23:07.893661Z",
     "shell.execute_reply": "2022-09-08T19:23:16.066223Z"
    },
    "trusted": true,
    "pycharm": {
     "name": "#%%\n"
    }
   },
   "execution_count": 3,
   "outputs": []
  },
  {
   "cell_type": "code",
   "source": [
    "# reading files\n",
    "categories = list()\n",
    "labels_all = list()\n",
    "scores = list()\n",
    "\n",
    "with open('../input/hyppr-images-mapping/categories.txt', 'r') as file:\n",
    "    for line in file.readlines():\n",
    "        categories.append(line.lower().rstrip().split(','))\n",
    "        \n",
    "with open('../input/hyppr-images-mapping/labels.txt', 'r') as file:\n",
    "    for line in file.readlines():\n",
    "        labels_all.append(line.rstrip(',\\n').split(','))\n",
    "\n",
    "with open('../input/hyppr-images-mapping/scores.txt', 'r') as file:\n",
    "    for line in file.readlines():\n",
    "        scores.append(line.rstrip(',\\n').split(','))\n",
    "        \n",
    "\n",
    "with open(\"../input/hyppr-images-mapping/all_ids.p\", \"rb\") as f:\n",
    "    all_ids = pickle.load(f)"
   ],
   "metadata": {
    "execution": {
     "iopub.status.busy": "2022-09-08T19:26:29.116619Z",
     "iopub.execute_input": "2022-09-08T19:26:29.117006Z",
     "iopub.status.idle": "2022-09-08T19:26:29.528023Z",
     "shell.execute_reply.started": "2022-09-08T19:26:29.116970Z",
     "shell.execute_reply": "2022-09-08T19:26:29.527091Z"
    },
    "trusted": true,
    "pycharm": {
     "name": "#%%\n"
    }
   },
   "execution_count": 4,
   "outputs": []
  },
  {
   "cell_type": "code",
   "source": [
    "labels = [lab for label in labels_all for lab in label]\n",
    "labels = list(set(labels))\n",
    "cats = [cat[0] for cat in categories]"
   ],
   "metadata": {
    "execution": {
     "iopub.status.busy": "2022-09-08T19:26:29.676483Z",
     "iopub.execute_input": "2022-09-08T19:26:29.676792Z",
     "iopub.status.idle": "2022-09-08T19:26:29.720617Z",
     "shell.execute_reply.started": "2022-09-08T19:26:29.676763Z",
     "shell.execute_reply": "2022-09-08T19:26:29.719729Z"
    },
    "trusted": true,
    "pycharm": {
     "name": "#%%\n"
    }
   },
   "execution_count": 5,
   "outputs": []
  },
  {
   "cell_type": "code",
   "source": [
    "labels_n = [\" \".join(my_list) for my_list in labels_all.copy()]\n",
    "labels_n = [\" \".join(re.split(' |-', my_list)) for my_list in labels_n]\n",
    "\n",
    "categories_n = [\" \".join(my_list) for my_list in categories.copy()]"
   ],
   "metadata": {
    "execution": {
     "iopub.status.busy": "2022-09-08T19:26:30.139997Z",
     "iopub.execute_input": "2022-09-08T19:26:30.140645Z",
     "iopub.status.idle": "2022-09-08T19:26:30.298777Z",
     "shell.execute_reply.started": "2022-09-08T19:26:30.140587Z",
     "shell.execute_reply": "2022-09-08T19:26:30.297904Z"
    },
    "trusted": true,
    "pycharm": {
     "name": "#%%\n"
    }
   },
   "execution_count": 6,
   "outputs": []
  },
  {
   "cell_type": "code",
   "source": [
    "# huggingface offers using this framework, it's unable to keep up large collections of embeddings though, since there is no garbage collector\n",
    "# inside. Use DataLoader from PyTorch or manual GPU computation instead\n",
    "\n",
    "# from transformers import pipeline\n",
    "\n",
    "# nlp_features = pipeline('feature-extraction')\n",
    "# out = nlp_features(labels_n)\n",
    "\n",
    "# out = np.array(out)\n",
    "\n",
    "# out = out[:, 8, :]\n",
    "\n",
    "# a, b = 123, 36\n",
    "# print(labels[a], labels[b])\n",
    "# cosine_similarity([out[a]], [out[b]])"
   ],
   "metadata": {
    "_kg_hide-input": true,
    "execution": {
     "iopub.status.busy": "2022-09-08T19:26:30.923894Z",
     "iopub.execute_input": "2022-09-08T19:26:30.924228Z",
     "iopub.status.idle": "2022-09-08T19:26:30.929202Z",
     "shell.execute_reply.started": "2022-09-08T19:26:30.924196Z",
     "shell.execute_reply": "2022-09-08T19:26:30.928181Z"
    },
    "trusted": true,
    "pycharm": {
     "name": "#%%\n"
    }
   },
   "execution_count": 7,
   "outputs": []
  },
  {
   "cell_type": "markdown",
   "source": [
    "# Models loading"
   ],
   "metadata": {
    "pycharm": {
     "name": "#%% md\n"
    }
   }
  },
  {
   "cell_type": "code",
   "source": [
    "# model = BertModel.from_pretrained('bert-base-uncased')\n",
    "# tokenizer = BertTokenizer.from_pretrained('bert-base-uncased')\n",
    "\n",
    "model = DistilBertModel.from_pretrained('distilbert-base-uncased')\n",
    "tokenizer = DistilBertTokenizer.from_pretrained('distilbert-base-uncased')"
   ],
   "metadata": {
    "execution": {
     "iopub.status.busy": "2022-09-08T19:26:45.624869Z",
     "iopub.execute_input": "2022-09-08T19:26:45.625204Z",
     "iopub.status.idle": "2022-09-08T19:27:17.694642Z",
     "shell.execute_reply.started": "2022-09-08T19:26:45.625171Z",
     "shell.execute_reply": "2022-09-08T19:27:17.693871Z"
    },
    "trusted": true,
    "pycharm": {
     "name": "#%%\n"
    }
   },
   "execution_count": 9,
   "outputs": []
  },
  {
   "cell_type": "markdown",
   "source": [
    "## Categories mapping"
   ],
   "metadata": {
    "pycharm": {
     "name": "#%% md\n"
    }
   }
  },
  {
   "cell_type": "code",
   "source": [
    "# r_tokenizer = RobertaTokenizer.from_pretrained('roberta-base')\n",
    "# r_model = RobertaModel.from_pretrained('roberta-base')"
   ],
   "metadata": {
    "pycharm": {
     "name": "#%%\n"
    }
   },
   "execution_count": null,
   "outputs": []
  },
  {
   "cell_type": "code",
   "source": [
    "# since we need to translate large collection, we can use simple model(ids, mask)\n",
    "tokenized_categories = tokenizer(categories_n, padding = True, truncation = True, return_tensors = 'pt')\n",
    "\n",
    "ids = tokenized_categories['input_ids']\n",
    "mask = tokenized_categories['attention_mask']   \n",
    "\n",
    "model.cpu()\n",
    "\n",
    "output = model(ids, mask)\n",
    "final_layer = output.last_hidden_state\n",
    "\n",
    "cat_embeddings = final_layer.detach().numpy()\n",
    "\n",
    "cat_embeddings = cat_embeddings[:, 7, :]"
   ],
   "metadata": {
    "execution": {
     "iopub.status.busy": "2022-09-08T19:27:17.696806Z",
     "iopub.execute_input": "2022-09-08T19:27:17.697165Z",
     "iopub.status.idle": "2022-09-08T19:27:18.213581Z",
     "shell.execute_reply.started": "2022-09-08T19:27:17.697129Z",
     "shell.execute_reply": "2022-09-08T19:27:18.212712Z"
    },
    "trusted": true,
    "pycharm": {
     "name": "#%%\n"
    }
   },
   "execution_count": 10,
   "outputs": []
  },
  {
   "cell_type": "markdown",
   "source": [
    "## Labels mapping"
   ],
   "metadata": {
    "pycharm": {
     "name": "#%% md\n"
    }
   }
  },
  {
   "cell_type": "code",
   "source": [
    "tokenized_labels = tokenizer(labels_n, padding = True, truncation = True, return_tensors = 'pt')\n",
    "\n",
    "input_ids = tokenized_labels['input_ids']\n",
    "masks = tokenized_labels['attention_mask']"
   ],
   "metadata": {
    "execution": {
     "iopub.status.busy": "2022-09-08T19:27:18.215973Z",
     "iopub.execute_input": "2022-09-08T19:27:18.216506Z",
     "iopub.status.idle": "2022-09-08T19:27:34.786986Z",
     "shell.execute_reply.started": "2022-09-08T19:27:18.216467Z",
     "shell.execute_reply": "2022-09-08T19:27:34.786227Z"
    },
    "trusted": true,
    "pycharm": {
     "name": "#%%\n"
    }
   },
   "execution_count": 11,
   "outputs": []
  },
  {
   "cell_type": "code",
   "source": [
    "# since there is a lot of sentences we need to batch it \n",
    "batch_size = 16\n",
    "\n",
    "train_data = TensorDataset(input_ids, masks)\n",
    "#train_sampler = RandomSampler(train_data)\n",
    "train_dl = DataLoader(train_data, batch_size=batch_size)\n",
    "\n",
    "model.cuda()\n",
    "out_list = []\n",
    "model.eval()\n",
    "with torch.no_grad():\n",
    "    for d in train_dl:\n",
    "        d = [i.cuda() for i in d[:3]]\n",
    "        out_list.append(model(*d)[0][:, 7, :].cpu()) \n",
    "    del d\n",
    "    \n",
    "labels_embeddings = torch.cat(out_list)\n",
    "labels_embeddings = labels_embeddings.numpy() "
   ],
   "metadata": {
    "execution": {
     "iopub.status.busy": "2022-09-08T19:27:34.788376Z",
     "iopub.execute_input": "2022-09-08T19:27:34.788691Z",
     "iopub.status.idle": "2022-09-08T19:28:13.385614Z",
     "shell.execute_reply.started": "2022-09-08T19:27:34.788659Z",
     "shell.execute_reply": "2022-09-08T19:28:13.384443Z"
    },
    "trusted": true,
    "pycharm": {
     "name": "#%%\n"
    }
   },
   "execution_count": 12,
   "outputs": []
  },
  {
   "cell_type": "markdown",
   "source": [
    "# RoBERTa model:"
   ],
   "metadata": {
    "pycharm": {
     "name": "#%% md\n"
    }
   }
  },
  {
   "cell_type": "code",
   "source": [
    "\n",
    "\n",
    "tokenized_categories = r_tokenizer(categories_n, padding = True, truncation = True, return_tensors = 'pt')\n",
    "\n",
    "ids = tokenized_categories['input_ids']\n",
    "mask = tokenized_categories['attention_mask']   \n",
    "\n",
    "r_model.cpu()\n",
    "output = r_model(ids, mask)\n",
    "final_layer = output.last_hidden_state\n",
    "\n",
    "cat_embeddings = final_layer.detach().numpy()\n",
    "\n",
    "cat_embeddings = cat_embeddings[:, 8, :]\n",
    "\n",
    "tokenized_labels = r_tokenizer(labels_n, return_tensors=\"pt\", padding = True)\n",
    "\n",
    "input_ids = tokenized_labels['input_ids']\n",
    "masks = tokenized_labels['attention_mask']\n",
    "\n",
    "# since there is a lot of sentences we need to batch it \n",
    "batch_size = 32\n",
    "\n",
    "train_data = TensorDataset(input_ids, masks)\n",
    "train_dl = DataLoader(train_data, batch_size=batch_size)\n",
    "\n",
    "r_model.cuda()\n",
    "out_list = []\n",
    "r_model.eval()\n",
    "with torch.no_grad():\n",
    "    for d in train_dl:\n",
    "        d = [i.cuda() for i in d[:3]]\n",
    "        out_list.append(r_model(*d)[0][:, 8, :].cpu()) \n",
    "    del d\n",
    "    \n",
    "labels_embeddings = torch.cat(out_list)\n",
    "labels_embeddings = labels_embeddings.numpy() \n",
    "labels_embeddings.shape"
   ],
   "metadata": {
    "execution": {
     "iopub.status.busy": "2022-01-01T23:10:49.68546Z",
     "iopub.execute_input": "2022-01-01T23:10:49.685781Z",
     "iopub.status.idle": "2022-01-01T23:10:50.60518Z",
     "shell.execute_reply.started": "2022-01-01T23:10:49.685752Z",
     "shell.execute_reply": "2022-01-01T23:10:50.604373Z"
    },
    "trusted": true,
    "pycharm": {
     "name": "#%%\n"
    }
   },
   "execution_count": null,
   "outputs": []
  },
  {
   "cell_type": "markdown",
   "source": [
    "# Normalizing the data"
   ],
   "metadata": {
    "pycharm": {
     "name": "#%% md\n"
    }
   }
  },
  {
   "cell_type": "code",
   "source": [
    "from sklearn.preprocessing import Normalizer\n",
    "import umap\n",
    "import matplotlib.pyplot as plt\n",
    "\n",
    "tr_l_e = Normalizer().fit_transform(labels_embeddings)\n",
    "tr_c_e = Normalizer().fit_transform(cat_embeddings)\n",
    "\n",
    "reducer = umap.UMAP()\n",
    "%time lab_emb_2d = reducer.fit_transform(tr_l_e)\n",
    "\n",
    "plt.scatter(\n",
    "    lab_emb_2d[:, 0],\n",
    "    lab_emb_2d[:, 1]);"
   ],
   "metadata": {
    "execution": {
     "iopub.status.busy": "2022-09-08T19:28:13.387788Z",
     "iopub.execute_input": "2022-09-08T19:28:13.388393Z",
     "iopub.status.idle": "2022-09-08T19:29:31.551029Z",
     "shell.execute_reply.started": "2022-09-08T19:28:13.388354Z",
     "shell.execute_reply": "2022-09-08T19:29:31.550089Z"
    },
    "trusted": true,
    "pycharm": {
     "name": "#%%\n"
    }
   },
   "execution_count": 13,
   "outputs": []
  },
  {
   "cell_type": "code",
   "source": [
    "cosine_similarity([labels_embeddings[0]], [labels_embeddings[12]])"
   ],
   "metadata": {
    "execution": {
     "iopub.status.busy": "2022-09-08T19:29:31.553199Z",
     "iopub.execute_input": "2022-09-08T19:29:31.553574Z",
     "iopub.status.idle": "2022-09-08T19:29:31.560807Z",
     "shell.execute_reply.started": "2022-09-08T19:29:31.553532Z",
     "shell.execute_reply": "2022-09-08T19:29:31.559829Z"
    },
    "trusted": true,
    "pycharm": {
     "name": "#%%\n"
    }
   },
   "execution_count": 14,
   "outputs": []
  },
  {
   "cell_type": "code",
   "source": [
    "labels_embeddings = tr_l_e.copy() # copying reduced vectors here\n",
    "cat_embeddings = tr_c_e.copy()"
   ],
   "metadata": {
    "execution": {
     "iopub.status.busy": "2022-09-08T19:29:31.562032Z",
     "iopub.execute_input": "2022-09-08T19:29:31.562594Z",
     "iopub.status.idle": "2022-09-08T19:29:31.617794Z",
     "shell.execute_reply.started": "2022-09-08T19:29:31.562558Z",
     "shell.execute_reply": "2022-09-08T19:29:31.616732Z"
    },
    "trusted": true,
    "pycharm": {
     "name": "#%%\n"
    }
   },
   "execution_count": 15,
   "outputs": []
  },
  {
   "cell_type": "markdown",
   "source": [
    "# Aggregating words embeddings into sentence embeddings\n",
    "We will use weighted arithmetic mean aggregation here:\n",
    " \\begin{equation*} \\LARGE\n",
    " \t\t\t\\text{result}_j = \\frac{\\sum_i^{m_l} v_{ij} \\cdot s_i}{\\sum_i^{m_l} v_{ij}}, \\; \\forall j \\in 1, ..., n.\n",
    " \\end{equation*}\n",
    " Here $v_{ij}$ is a component of main matrix of embeddings, and $s_i$ is a weight of $i$-th element of Google API model."
   ],
   "metadata": {
    "_kg_hide-input": true,
    "pycharm": {
     "name": "#%% md\n"
    }
   }
  },
  {
   "cell_type": "code",
   "source": [
    "def aggregating_words(labels, embeddings, generated_sentences):  # IF we will use aggregation (which may be not good since we don't actually have sentence). One of the models are\n",
    "    dict_embeddings = {}\n",
    "    for i in range(len(labels)):\n",
    "        dict_embeddings.update({labels[i]:embeddings[i]})\n",
    "    n = dict_embeddings[labels[0]].shape[0]\n",
    "\n",
    "    images_embeddings = [] # we will find embeddings for an every image\n",
    "    outer_elements = 0\n",
    "    for image_ind in range(len(generated_sentences)): # going on list by lists, where last \"lists\" are images\n",
    "        result_embedding = np.zeros(n)\n",
    "        norm = np.zeros(n)\n",
    "        for im_label in range(len(generated_sentences[image_ind])):\n",
    "            try:\n",
    "                emb_dot_score = np.dot(dict_embeddings[generated_sentences[image_ind][im_label]], float(scores[image_ind][im_label])) # vector on scalar -> vector\n",
    "                norm = np.add(norm, dict_embeddings[generated_sentences[image_ind][im_label]] )#normalizing each component: find sum of vectors what is vector, than divide inner by norm\n",
    "            except: # list index out of range\n",
    "                outer_elements += 1\n",
    "\n",
    "            result_embedding = np.add(result_embedding,emb_dot_score)\n",
    "        result_embedding = np.divide(result_embedding, norm)\n",
    "        images_embeddings.append(result_embedding)\n",
    "    images_embeddings = np.array(images_embeddings)\n",
    "    return images_embeddings\n",
    "\n",
    "    print('Number of list index out of range elements: {}'.format(outer_elements))\n",
    "    \n",
    "# images_embeddings = aggregating_words(labels, labels_embeddings, labels_all)\n",
    "# labels_embeddings = images_embeddings"
   ],
   "metadata": {
    "_kg_hide-input": true,
    "execution": {
     "iopub.status.busy": "2022-09-08T00:23:52.991461Z",
     "iopub.execute_input": "2022-09-08T00:23:52.991714Z",
     "iopub.status.idle": "2022-09-08T00:23:55.986794Z",
     "shell.execute_reply.started": "2022-09-08T00:23:52.991689Z",
     "shell.execute_reply": "2022-09-08T00:23:55.985247Z"
    },
    "trusted": true,
    "pycharm": {
     "name": "#%%\n"
    }
   },
   "execution_count": 23,
   "outputs": []
  },
  {
   "cell_type": "markdown",
   "source": [
    "# Dimensionality reduction\n",
    "\n",
    "There are two well-known methods available: PCA and UMAP. t-SNE mainly used for vizualization purposes being slow, so it is out-of-the match for now.\n",
    "Little comparison of PCA and UMAP:\n",
    "\n",
    "1.  UMAP is potentially better since it causes to connect nearest neighbours making pre-clustering\n",
    "2.  Also UMAP is better since it finds non-linear connections between data "
   ],
   "metadata": {
    "pycharm": {
     "name": "#%% md\n"
    }
   }
  },
  {
   "cell_type": "markdown",
   "source": [
    "## Bringing PCA on"
   ],
   "metadata": {
    "pycharm": {
     "name": "#%% md\n"
    }
   }
  },
  {
   "cell_type": "code",
   "source": [
    "from sklearn.decomposition import PCA\n",
    "pca = PCA(n_components = 150)\n",
    "\n",
    "%time pca_labels = pca.fit_transform(labels_embeddings)"
   ],
   "metadata": {
    "execution": {
     "iopub.status.busy": "2022-09-08T00:23:55.995005Z",
     "iopub.execute_input": "2022-09-08T00:23:55.995423Z",
     "iopub.status.idle": "2022-09-08T00:24:00.544507Z",
     "shell.execute_reply.started": "2022-09-08T00:23:55.995388Z",
     "shell.execute_reply": "2022-09-08T00:24:00.543178Z"
    },
    "trusted": true,
    "pycharm": {
     "name": "#%%\n"
    }
   },
   "execution_count": 25,
   "outputs": []
  },
  {
   "cell_type": "code",
   "source": [
    "import matplotlib.pyplot as plt\n",
    "\n",
    "pca_2d = PCA(n_components = 2)\n",
    "%time lab_emb_2d = pca_2d.fit_transform(labels_embeddings)\n",
    "\n",
    "plt.scatter(\n",
    "    lab_emb_2d[:, 0],\n",
    "    lab_emb_2d[:, 1])"
   ],
   "metadata": {
    "execution": {
     "iopub.status.busy": "2022-09-08T00:24:00.545718Z",
     "iopub.execute_input": "2022-09-08T00:24:00.546107Z",
     "iopub.status.idle": "2022-09-08T00:24:02.262256Z",
     "shell.execute_reply.started": "2022-09-08T00:24:00.546055Z",
     "shell.execute_reply": "2022-09-08T00:24:02.261459Z"
    },
    "trusted": true,
    "pycharm": {
     "name": "#%%\n"
    }
   },
   "execution_count": 26,
   "outputs": []
  },
  {
   "cell_type": "markdown",
   "source": [
    "Handled not so well, points are just uniformly distributed over the square"
   ],
   "metadata": {
    "pycharm": {
     "name": "#%% md\n"
    }
   }
  },
  {
   "cell_type": "markdown",
   "source": [
    "## Bringing UMAP on"
   ],
   "metadata": {
    "pycharm": {
     "name": "#%% md\n"
    }
   }
  },
  {
   "cell_type": "code",
   "source": [
    "import umap\n",
    "import matplotlib.pyplot as plt\n",
    "\n",
    "reducer = umap.UMAP()\n",
    "%time lab_emb_2d = reducer.fit_transform(labels_embeddings)\n",
    "\n",
    "lab_emb_2d.shape\n",
    "\n",
    "plt.scatter(\n",
    "    lab_emb_2d[:, 0],\n",
    "    lab_emb_2d[:, 1])"
   ],
   "metadata": {
    "execution": {
     "iopub.status.busy": "2022-09-08T19:29:31.620006Z",
     "iopub.execute_input": "2022-09-08T19:29:31.620550Z",
     "iopub.status.idle": "2022-09-08T19:30:13.875473Z",
     "shell.execute_reply.started": "2022-09-08T19:29:31.620510Z",
     "shell.execute_reply": "2022-09-08T19:30:13.874588Z"
    },
    "trusted": true,
    "pycharm": {
     "name": "#%%\n"
    }
   },
   "execution_count": 16,
   "outputs": []
  },
  {
   "cell_type": "code",
   "source": [
    "def draw_umap(data = labels_embeddings, n_neighbors=15, min_dist=0.1, n_components=2, metric='cosine', title=''):\n",
    "    fit = umap.UMAP(\n",
    "        n_neighbors=n_neighbors,\n",
    "        min_dist=min_dist,\n",
    "        n_components=n_components,\n",
    "        metric=metric\n",
    "    )\n",
    "    \n",
    "    start_time = time.time()\n",
    "    u = fit.fit_transform(data)\n",
    "    end_time = time.time()\n",
    "    print('UMAP execution time in seconds: {}'.format(end_time - start_time))\n",
    "    \n",
    "    fig = plt.figure()\n",
    "    if n_components == 1:\n",
    "        ax = fig.add_subplot(111)\n",
    "        ax.scatter(u[:,0], range(len(u)), c=data)\n",
    "    if n_components == 2:\n",
    "        ax = fig.add_subplot(111)\n",
    "        ax.scatter(u[:,0], u[:,1])\n",
    "    if n_components == 3:\n",
    "        ax = fig.add_subplot(111, projection='3d')\n",
    "        ax.scatter(u[:,0], u[:,1], u[:,2], c=data, s=100)\n",
    "    plt.title(title, fontsize=18)\n",
    "    if n_neighbors != 15:\n",
    "        plt.savefig('draw_umap_n_neighbors_' + str(n_neighbors)+ '.png', bbox_inches='tight')\n",
    "    else:\n",
    "        plt.savefig('draw_umap_min_dist_' + str(min_dist).replace('.', '0') + '.png', bbox_inches='tight')"
   ],
   "metadata": {
    "execution": {
     "iopub.status.busy": "2022-09-08T19:30:13.878530Z",
     "iopub.execute_input": "2022-09-08T19:30:13.878790Z",
     "iopub.status.idle": "2022-09-08T19:30:13.889316Z",
     "shell.execute_reply.started": "2022-09-08T19:30:13.878762Z",
     "shell.execute_reply": "2022-09-08T19:30:13.888502Z"
    },
    "trusted": true,
    "pycharm": {
     "name": "#%%\n"
    }
   },
   "execution_count": 17,
   "outputs": []
  },
  {
   "cell_type": "code",
   "source": [
    "for n in (5,10, 20, 35, 50):\n",
    "    draw_umap(n_neighbors=n, title='n_neighbors = {}'.format(n))"
   ],
   "metadata": {
    "execution": {
     "iopub.status.busy": "2022-09-08T19:30:13.891958Z",
     "iopub.execute_input": "2022-09-08T19:30:13.892367Z",
     "iopub.status.idle": "2022-09-08T19:34:38.967133Z",
     "shell.execute_reply.started": "2022-09-08T19:30:13.892336Z",
     "shell.execute_reply": "2022-09-08T19:34:38.966407Z"
    },
    "trusted": true,
    "pycharm": {
     "name": "#%%\n"
    }
   },
   "execution_count": 18,
   "outputs": []
  },
  {
   "cell_type": "code",
   "source": [
    "for d in (0.0, 0.1, 0.25, 0.5, 0.8, 0.99):\n",
    "    draw_umap(min_dist=d, title='min_dist = {}'.format(d))"
   ],
   "metadata": {
    "execution": {
     "iopub.status.busy": "2022-09-08T19:34:38.970726Z",
     "iopub.execute_input": "2022-09-08T19:34:38.970982Z",
     "iopub.status.idle": "2022-09-08T19:38:57.235867Z",
     "shell.execute_reply.started": "2022-09-08T19:34:38.970955Z",
     "shell.execute_reply": "2022-09-08T19:38:57.234980Z"
    },
    "trusted": true,
    "pycharm": {
     "name": "#%%\n"
    }
   },
   "execution_count": 19,
   "outputs": []
  },
  {
   "cell_type": "markdown",
   "source": [
    "So by graphs we're taking **min_dist** = 0.1 and **n_neighbors** = 10"
   ],
   "metadata": {
    "pycharm": {
     "name": "#%% md\n"
    }
   }
  },
  {
   "cell_type": "code",
   "source": [
    "draw_umap(n_neighbors=100, title='n_neighbors = 100')"
   ],
   "metadata": {
    "execution": {
     "iopub.status.busy": "2022-09-08T19:49:33.388011Z",
     "iopub.execute_input": "2022-09-08T19:49:33.388389Z",
     "iopub.status.idle": "2022-09-08T19:51:54.428468Z",
     "shell.execute_reply.started": "2022-09-08T19:49:33.388356Z",
     "shell.execute_reply": "2022-09-08T19:51:54.427400Z"
    },
    "trusted": true,
    "pycharm": {
     "name": "#%%\n"
    }
   },
   "execution_count": 20,
   "outputs": []
  },
  {
   "cell_type": "code",
   "source": [
    "reducer = umap.UMAP(n_components = 150, n_neighbors = 15,min_dist = 0.0, metric = 'cosine')\n",
    "lab_emb_150d = reducer.fit_transform(labels_embeddings)"
   ],
   "metadata": {
    "execution": {
     "iopub.status.busy": "2022-09-08T19:51:54.430192Z",
     "iopub.execute_input": "2022-09-08T19:51:54.430495Z",
     "iopub.status.idle": "2022-09-08T19:56:28.717006Z",
     "shell.execute_reply.started": "2022-09-08T19:51:54.430465Z",
     "shell.execute_reply": "2022-09-08T19:56:28.716184Z"
    },
    "trusted": true,
    "pycharm": {
     "name": "#%%\n"
    }
   },
   "execution_count": 21,
   "outputs": []
  },
  {
   "cell_type": "code",
   "source": [
    "reducer = umap.UMAP(n_components = 150, n_neighbors = 2,min_dist = 0.0, metric = 'cosine', init= 'random')\n",
    "cat_emb_150d = reducer.fit_transform(cat_embeddings)"
   ],
   "metadata": {
    "execution": {
     "iopub.status.busy": "2022-09-08T19:56:28.718524Z",
     "iopub.execute_input": "2022-09-08T19:56:28.718862Z",
     "iopub.status.idle": "2022-09-08T19:56:34.860690Z",
     "shell.execute_reply.started": "2022-09-08T19:56:28.718825Z",
     "shell.execute_reply": "2022-09-08T19:56:34.859843Z"
    },
    "trusted": true,
    "pycharm": {
     "name": "#%%\n"
    }
   },
   "execution_count": 22,
   "outputs": []
  },
  {
   "cell_type": "code",
   "source": [
    "import seaborn as sn\n",
    "import pandas as pd\n",
    "df_cm = pd.DataFrame(cosine_similarity(cat_embeddings), index = [i for i in range(len(cats))],\n",
    "                  columns = [i for i in range(len(cats))])\n",
    "plt.figure(figsize = (10, 7))\n",
    "sn.heatmap(df_cm,cmap=\"YlGnBu\",linewidths=1, annot = True, fmt = '.2f')\n",
    "plt.savefig('cat1.png', bbox_inches='tight')"
   ],
   "metadata": {
    "execution": {
     "iopub.status.busy": "2022-09-08T19:56:34.863034Z",
     "iopub.execute_input": "2022-09-08T19:56:34.863558Z",
     "iopub.status.idle": "2022-09-08T19:56:37.052061Z",
     "shell.execute_reply.started": "2022-09-08T19:56:34.863519Z",
     "shell.execute_reply": "2022-09-08T19:56:37.051134Z"
    },
    "trusted": true,
    "pycharm": {
     "name": "#%%\n"
    }
   },
   "execution_count": 23,
   "outputs": []
  },
  {
   "cell_type": "code",
   "source": [
    "df_cm = pd.DataFrame(cosine_similarity(cat_emb_150d), index = [i for i in range(len(cats))],\n",
    "                  columns = [i for i in range(len(cats))])\n",
    "plt.figure(figsize = (10, 7))\n",
    "sn.heatmap(df_cm,cmap=\"YlGnBu\",linewidths=1, annot = True, fmt = '.2f')\n",
    "plt.savefig('cat2.png', bbox_inches='tight')"
   ],
   "metadata": {
    "execution": {
     "iopub.status.busy": "2022-09-08T19:56:37.055532Z",
     "iopub.execute_input": "2022-09-08T19:56:37.055795Z",
     "iopub.status.idle": "2022-09-08T19:56:39.638009Z",
     "shell.execute_reply.started": "2022-09-08T19:56:37.055767Z",
     "shell.execute_reply": "2022-09-08T19:56:39.637163Z"
    },
    "trusted": true,
    "pycharm": {
     "name": "#%%\n"
    }
   },
   "execution_count": 24,
   "outputs": []
  },
  {
   "cell_type": "code",
   "source": [
    "cosine_similarity([lab_emb_150d[0]], [lab_emb_150d[0]])"
   ],
   "metadata": {
    "execution": {
     "iopub.status.busy": "2022-09-08T19:56:39.641385Z",
     "iopub.execute_input": "2022-09-08T19:56:39.642115Z",
     "iopub.status.idle": "2022-09-08T19:56:39.650316Z",
     "shell.execute_reply.started": "2022-09-08T19:56:39.642077Z",
     "shell.execute_reply": "2022-09-08T19:56:39.648993Z"
    },
    "trusted": true,
    "pycharm": {
     "name": "#%%\n"
    }
   },
   "execution_count": 25,
   "outputs": []
  },
  {
   "cell_type": "code",
   "source": [
    "cosine_similarity([labels_embeddings[0]], [labels_embeddings[4]])"
   ],
   "metadata": {
    "execution": {
     "iopub.status.busy": "2022-09-08T19:56:39.652146Z",
     "iopub.execute_input": "2022-09-08T19:56:39.652605Z",
     "iopub.status.idle": "2022-09-08T19:56:39.661376Z",
     "shell.execute_reply.started": "2022-09-08T19:56:39.652566Z",
     "shell.execute_reply": "2022-09-08T19:56:39.660281Z"
    },
    "trusted": true,
    "pycharm": {
     "name": "#%%\n"
    }
   },
   "execution_count": 26,
   "outputs": []
  },
  {
   "cell_type": "markdown",
   "source": [
    "# Dict Embeddings:"
   ],
   "metadata": {
    "pycharm": {
     "name": "#%% md\n"
    }
   }
  },
  {
   "cell_type": "code",
   "source": [
    "def set_key(dictionary, key, value):\n",
    "    if key not in dictionary:\n",
    "        if type(value) == list:\n",
    "            dictionary[key] = [value]\n",
    "        else:\n",
    "            dictionary[key] = value\n",
    "    elif type(dictionary[key]) == list:\n",
    "         dictionary[key].append(value)\n",
    "    else:\n",
    "         dictionary[key] = [dictionary[key], value]"
   ],
   "metadata": {
    "execution": {
     "iopub.status.busy": "2022-09-08T20:19:30.033642Z",
     "iopub.execute_input": "2022-09-08T20:19:30.033963Z",
     "iopub.status.idle": "2022-09-08T20:19:30.039951Z",
     "shell.execute_reply.started": "2022-09-08T20:19:30.033933Z",
     "shell.execute_reply": "2022-09-08T20:19:30.039052Z"
    },
    "trusted": true,
    "pycharm": {
     "name": "#%%\n"
    }
   },
   "execution_count": 29,
   "outputs": []
  },
  {
   "cell_type": "code",
   "source": [
    "dict_embeddings = dict()\n",
    "for i in range(len(all_ids)):\n",
    "    dict_embeddings[all_ids[i]] = lab_emb_150d[i]"
   ],
   "metadata": {
    "execution": {
     "iopub.status.busy": "2022-09-08T20:19:30.783065Z",
     "iopub.execute_input": "2022-09-08T20:19:30.783507Z",
     "iopub.status.idle": "2022-09-08T20:19:30.808745Z",
     "shell.execute_reply.started": "2022-09-08T20:19:30.783460Z",
     "shell.execute_reply": "2022-09-08T20:19:30.807872Z"
    },
    "trusted": true,
    "pycharm": {
     "name": "#%%\n"
    }
   },
   "execution_count": 30,
   "outputs": []
  },
  {
   "cell_type": "code",
   "source": [
    "with open(\"../input/hyppr-images-mapping/objid_postid.p\", \"rb\") as f:\n",
    "    objid_postid = pickle.load(f)\n",
    "# reverse:\n",
    "postid_objid = dict()\n",
    "for objid, postid in objid_postid.items():\n",
    "    set_key(postid_objid, postid, objid)"
   ],
   "metadata": {
    "execution": {
     "iopub.status.busy": "2022-09-08T20:19:31.378529Z",
     "iopub.execute_input": "2022-09-08T20:19:31.378931Z",
     "iopub.status.idle": "2022-09-08T20:19:31.415978Z",
     "shell.execute_reply.started": "2022-09-08T20:19:31.378894Z",
     "shell.execute_reply": "2022-09-08T20:19:31.415269Z"
    },
    "trusted": true,
    "pycharm": {
     "name": "#%%\n"
    }
   },
   "execution_count": 31,
   "outputs": []
  },
  {
   "cell_type": "code",
   "source": [
    "with open('../input/hyppr-images-mapping/category_to_posts_vision.p', 'rb') as f:   # opening given model\n",
    "    category_to_posts = pickle.load(f)\n",
    "category_to_posts = dict(category_to_posts)\n",
    "\n",
    "posts_to_category = dict()\n",
    "for cat, posts in category_to_posts.items():\n",
    "    for post in posts:\n",
    "        if post not in posts_to_category.keys():\n",
    "            set_key(posts_to_category, post, cat)"
   ],
   "metadata": {
    "execution": {
     "iopub.status.busy": "2022-09-08T20:19:32.052806Z",
     "iopub.execute_input": "2022-09-08T20:19:32.053140Z",
     "iopub.status.idle": "2022-09-08T20:19:32.071646Z",
     "shell.execute_reply.started": "2022-09-08T20:19:32.053092Z",
     "shell.execute_reply": "2022-09-08T20:19:32.070967Z"
    },
    "trusted": true,
    "pycharm": {
     "name": "#%%\n"
    }
   },
   "execution_count": 32,
   "outputs": []
  },
  {
   "cell_type": "markdown",
   "source": [
    "# Clusterization"
   ],
   "metadata": {
    "pycharm": {
     "name": "#%% md\n"
    }
   }
  },
  {
   "cell_type": "code",
   "source": [
    "import tensorflow as tf\n",
    "from kmeanstf import KMeansTF\n",
    "from sklearn.metrics import silhouette_score"
   ],
   "metadata": {
    "execution": {
     "iopub.status.busy": "2022-09-08T20:19:33.178194Z",
     "iopub.execute_input": "2022-09-08T20:19:33.178519Z",
     "iopub.status.idle": "2022-09-08T20:19:34.968518Z",
     "shell.execute_reply.started": "2022-09-08T20:19:33.178489Z",
     "shell.execute_reply": "2022-09-08T20:19:34.967602Z"
    },
    "trusted": true,
    "pycharm": {
     "name": "#%%\n"
    }
   },
   "execution_count": 33,
   "outputs": []
  },
  {
   "cell_type": "markdown",
   "source": [
    "# COMPARISON UMAP AND PCA GRAPHICS:"
   ],
   "metadata": {
    "pycharm": {
     "name": "#%% md\n"
    }
   }
  },
  {
   "cell_type": "code",
   "source": [
    "silhouettes_umap_f = []\n",
    "\n",
    "distortions_f = [] # making this for using elbow method in next cells\n",
    "\n",
    "K = range(2,30,2)\n",
    "for k in K:\n",
    "    start_time = time.time()\n",
    "    kmeanstf = KMeansTF(n_clusters = k, random_state = 21)\n",
    "    \n",
    "    labels_embeddings_tf = tf.convert_to_tensor(lab_emb_150d)  # learning on umap first\n",
    "    kmeanstf.fit(labels_embeddings_tf)\n",
    "    silhouettes_umap_f.append(silhouette_score(lab_emb_150d, kmeanstf.labels_))\n",
    "    \n",
    "    distortions_f.append(kmeanstf.inertia_)\n",
    "    \n",
    "    end_time = time.time()\n",
    "    print('KmeansTF execution time in seconds: {}'.format(end_time - start_time))"
   ],
   "metadata": {
    "execution": {
     "iopub.status.busy": "2022-09-08T20:19:36.292462Z",
     "iopub.execute_input": "2022-09-08T20:19:36.292780Z",
     "iopub.status.idle": "2022-09-08T20:27:51.389546Z",
     "shell.execute_reply.started": "2022-09-08T20:19:36.292750Z",
     "shell.execute_reply": "2022-09-08T20:27:51.388599Z"
    },
    "trusted": true,
    "pycharm": {
     "name": "#%%\n"
    }
   },
   "execution_count": 34,
   "outputs": []
  },
  {
   "cell_type": "code",
   "source": [
    "fig, ax = plt.subplots(1, 2, figsize = (16, 8), sharey = True)\n",
    "ax[0].plot(K, silhouettes_umap_f, 'yx-')\n",
    "ax[0].set(xlabel = 'k', ylabel = 'Silhouette score', title = 'Silhouette for UMAP, k = 2 - 30, n_neighbors = 5, min_dist = 0.1')\n",
    "# plt.yscale('log')\n",
    "ax[1].plot(K, silhouettes_pca_f, 'cx-')\n",
    "ax[1].set(xlabel = 'k', ylabel = 'Silhouette score', title = 'Silhouette for PCA, k = 2 - 30')\n",
    "plt.savefig('silhouettes_comparison.pdf', bbox_inches='tight')"
   ],
   "metadata": {
    "execution": {
     "iopub.status.busy": "2022-09-08T20:27:51.397973Z",
     "iopub.execute_input": "2022-09-08T20:27:51.398671Z",
     "iopub.status.idle": "2022-09-08T20:27:51.675706Z",
     "shell.execute_reply.started": "2022-09-08T20:27:51.398635Z",
     "shell.execute_reply": "2022-09-08T20:27:51.674370Z"
    },
    "trusted": true,
    "pycharm": {
     "name": "#%%\n"
    }
   },
   "execution_count": 36,
   "outputs": []
  },
  {
   "cell_type": "code",
   "source": [
    "silhouettes_umap_s = []\n",
    "\n",
    "distortions_s = []\n",
    "\n",
    "K = range(30,150,3)\n",
    "for k in K:\n",
    "    start_time = time.time()\n",
    "    kmeanstf = KMeansTF(n_clusters = k, random_state = 21)\n",
    "    \n",
    "    labels_embeddings_tf = tf.convert_to_tensor(lab_emb_150d)  # learning umap first\n",
    "    kmeanstf.fit(labels_embeddings_tf)\n",
    "    silhouettes_umap_s.append(silhouette_score(lab_emb_150d, kmeanstf.labels_))\n",
    "    \n",
    "    distortions_s.append(kmeanstf.inertia_)\n",
    "    \n",
    "    end_time = time.time()\n",
    "    print('KmeansTF execution time in seconds: {}'.format(end_time - start_time))"
   ],
   "metadata": {
    "execution": {
     "iopub.status.busy": "2022-09-08T19:56:40.014799Z",
     "iopub.status.idle": "2022-09-08T19:56:40.015427Z"
    },
    "trusted": true,
    "pycharm": {
     "name": "#%%\n"
    }
   },
   "execution_count": null,
   "outputs": []
  },
  {
   "cell_type": "code",
   "source": [
    "fig, ax = plt.subplots(1, 2, figsize = (16, 8), sharey = True)\n",
    "ax[0].plot(K, silhouettes_umap_s, 'yx-')\n",
    "ax[0].set(xlabel = 'k', ylabel = 'Silhouette score', title = 'Silhouette for UMAP, k = 30 - 150, n_neighbors = 5, min_dist = 0.1')\n",
    "# plt.yscale('log')\n",
    "ax[1].plot(K, silhouettes_pca_s, 'cx-')\n",
    "ax[1].set(xlabel = 'k', ylabel = 'Silhouette score', title = 'Silhouette for PCA, k = 30 - 150.')\n",
    "plt.savefig('silhouettes_comparison2.pdf', bbox_inches='tight')"
   ],
   "metadata": {
    "execution": {
     "iopub.status.busy": "2022-09-08T19:56:40.016698Z",
     "iopub.status.idle": "2022-09-08T19:56:40.017475Z"
    },
    "trusted": true,
    "pycharm": {
     "name": "#%%\n"
    }
   },
   "execution_count": null,
   "outputs": []
  },
  {
   "cell_type": "markdown",
   "source": [
    "## Now we need to find out optimal number of clusters.\n",
    "### Since Elbow Method works not always fine, we need to compare it with Average Silhouette Method and find out which is better"
   ],
   "metadata": {
    "pycharm": {
     "name": "#%% md\n"
    }
   }
  },
  {
   "cell_type": "markdown",
   "source": [
    "# Comparison of Elbow Method and Average Silhouette"
   ],
   "metadata": {
    "pycharm": {
     "name": "#%% md\n"
    }
   }
  },
  {
   "cell_type": "code",
   "source": [
    "#lab_emb_150d = labels_embeddings.copy() # using PCA finally # now we wont do that since PCA works bad\n",
    "#cat_emb_150d = cat_embeddings.copy()"
   ],
   "metadata": {
    "execution": {
     "iopub.status.busy": "2022-09-08T19:56:40.018867Z",
     "iopub.status.idle": "2022-09-08T19:56:40.019616Z"
    },
    "trusted": true,
    "pycharm": {
     "name": "#%%\n"
    }
   },
   "execution_count": null,
   "outputs": []
  },
  {
   "cell_type": "code",
   "source": [
    "fig, ax = plt.subplots(1, 2, figsize = (16, 8))\n",
    "ax[0].plot(range(2,30,2), distortions_f, 'bx-')\n",
    "ax[0].set(xlabel = 'k', ylabel = 'Distortion', title = 'The Elbow Method. k = ')\n",
    "ax[0].set_yscale(\"log\")\n",
    "ax[1].plot(range(2,30,2), silhouettes_umap_f, 'rx-')\n",
    "ax[1].set(xlabel = 'k', ylabel = 'Silhouette score', title = 'The Average Silhouette Method')\n",
    "plt.savefig('elbowSilhouette1.png', bbox_inches='tight')"
   ],
   "metadata": {
    "execution": {
     "iopub.status.busy": "2022-09-08T19:56:40.022757Z",
     "iopub.status.idle": "2022-09-08T19:56:40.023569Z"
    },
    "trusted": true,
    "pycharm": {
     "name": "#%%\n"
    }
   },
   "execution_count": null,
   "outputs": []
  },
  {
   "cell_type": "code",
   "source": [
    "max_silh_id = np.argmax(silhouettes_umap_f)\n",
    "max_silh = silhouettes_umap_f[max_silh_id]"
   ],
   "metadata": {
    "execution": {
     "iopub.status.busy": "2022-09-08T19:56:40.024786Z",
     "iopub.status.idle": "2022-09-08T19:56:40.025600Z"
    },
    "trusted": true,
    "pycharm": {
     "name": "#%%\n"
    }
   },
   "execution_count": null,
   "outputs": []
  },
  {
   "cell_type": "code",
   "source": [
    "fig, ax = plt.subplots(1, 2, figsize = (16, 8))\n",
    "ax[0].plot(K, distortions_s, 'bx-')\n",
    "ax[0].set(xlabel = 'k', ylabel = 'Distortion', title = 'The Elbow Method')\n",
    "ax[0].set_yscale('log')\n",
    "ax[1].plot(K, silhouettes_umap_s, 'rx-')\n",
    "ax[1].set(xlabel = 'k', ylabel = 'Silhouette score', title = 'The Average Silhouette Method')\n",
    "plt.savefig('elbowSilhouette2.png', bbox_inches='tight')"
   ],
   "metadata": {
    "execution": {
     "iopub.status.busy": "2022-09-08T19:56:40.026851Z",
     "iopub.status.idle": "2022-09-08T19:56:40.027677Z"
    },
    "trusted": true,
    "pycharm": {
     "name": "#%%\n"
    }
   },
   "execution_count": null,
   "outputs": []
  },
  {
   "cell_type": "code",
   "source": [
    "silhouettes_umap_t = []\n",
    "\n",
    "distortions_t = []\n",
    "\n",
    "K = range(150,210,3)\n",
    "for k in K:\n",
    "    start_time = time.time()\n",
    "    kmeanstf = KMeansTF(n_clusters = k, random_state = 21)\n",
    "    \n",
    "    labels_embeddings_tf = tf.convert_to_tensor(lab_emb_150d)  # learning umap first\n",
    "    kmeanstf.fit(labels_embeddings_tf)\n",
    "    silhouettes_umap_t.append(silhouette_score(lab_emb_150d, kmeanstf.labels_))\n",
    "    \n",
    "    distortions_t.append(kmeanstf.inertia_)\n",
    "    \n",
    "    end_time = time.time()\n",
    "    print('KmeansTF execution time in seconds: {}'.format(end_time - start_time))\n",
    "    \n",
    "fig, ax = plt.subplots(1, 2, figsize = (16, 8))\n",
    "ax[0].plot(K, distortions_t, 'bx-')\n",
    "ax[0].set(xlabel = 'k', ylabel = 'Distortion', title = 'The Elbow Method')\n",
    "ax[0].set_yscale('log')\n",
    "ax[1].plot(K, silhouettes_umap_t, 'rx-')\n",
    "ax[1].set(xlabel = 'k', ylabel = 'Silhouette score', title = 'The Average Silhouette Method')\n",
    "plt.savefig('elbowSilhouette3.png', bbox_inches='tight')"
   ],
   "metadata": {
    "execution": {
     "iopub.status.busy": "2022-09-08T19:56:40.028921Z",
     "iopub.status.idle": "2022-09-08T19:56:40.029729Z"
    },
    "trusted": true,
    "pycharm": {
     "name": "#%%\n"
    }
   },
   "execution_count": null,
   "outputs": []
  },
  {
   "cell_type": "code",
   "source": [
    "fig, ax = plt.subplots(1, 2, figsize = (16, 8))\n",
    "ax[0].plot(K, distortions_t, 'bx-')\n",
    "ax[0].set(xlabel = 'k', ylabel = 'Distortion', title = 'The Elbow Method')\n",
    "ax[0].set_yscale('log')\n",
    "ax[1].plot(K, silhouettes_umap_t, 'rx-')\n",
    "ax[1].set(xlabel = 'k', ylabel = 'Silhouette score', title = 'The Average Silhouette Method')\n",
    "plt.savefig('elbowSilhouette3.png', bbox_inches='tight')"
   ],
   "metadata": {
    "execution": {
     "iopub.status.busy": "2022-09-08T19:56:40.030952Z",
     "iopub.status.idle": "2022-09-08T19:56:40.031780Z"
    },
    "trusted": true,
    "pycharm": {
     "name": "#%%\n"
    }
   },
   "execution_count": null,
   "outputs": []
  },
  {
   "cell_type": "markdown",
   "source": [
    "### Find out where Silhouette is bigger:"
   ],
   "metadata": {
    "pycharm": {
     "name": "#%% md\n"
    }
   }
  },
  {
   "cell_type": "code",
   "source": [
    "silhouettes = silhouettes_umap_f + silhouettes_umap_s \n",
    "# on UMAP one could see a monotone graph, so around n_clusters = 15 is about right\n",
    "if silhouettes[np.argmax(silhouettes)] > max_silh:\n",
    "    max_silh_id = np.argmax(silhouettes)\n",
    "n_themes = (max_silh_id - len(silhouettes_umap_f)) * 3 + 30\n",
    "n_themes"
   ],
   "metadata": {
    "execution": {
     "iopub.status.busy": "2022-09-08T19:56:40.033025Z",
     "iopub.status.idle": "2022-09-08T19:56:40.033831Z"
    },
    "trusted": true,
    "pycharm": {
     "name": "#%%\n"
    }
   },
   "execution_count": null,
   "outputs": []
  },
  {
   "cell_type": "code",
   "source": [
    "import hdbscan\n",
    "from sklearn.metrics import pairwise_distances\n",
    "\n",
    "distance = pairwise_distances(lab_emb_150d, metric='cosine')\n",
    "clusterer = hdbscan.HDBSCAN(min_cluster_size=15, metric='precomputed')\n",
    "clusterer.fit(distance.astype('float64'))\n",
    "clusterer.labels_"
   ],
   "metadata": {
    "execution": {
     "iopub.status.busy": "2022-09-08T19:56:40.035231Z",
     "iopub.status.idle": "2022-09-08T19:56:40.036087Z"
    },
    "trusted": true,
    "pycharm": {
     "name": "#%%\n"
    }
   },
   "execution_count": null,
   "outputs": []
  },
  {
   "cell_type": "code",
   "source": [
    "lab_emb_150d = labels_embeddings.copy()\n",
    "cat_emb_150d = cat_embeddings.copy()"
   ],
   "metadata": {
    "execution": {
     "iopub.status.busy": "2022-09-08T19:56:40.037338Z",
     "iopub.status.idle": "2022-09-08T19:56:40.038155Z"
    },
    "trusted": true,
    "pycharm": {
     "name": "#%%\n"
    }
   },
   "execution_count": null,
   "outputs": []
  },
  {
   "cell_type": "code",
   "source": [
    "n_themes = 200\n",
    "kmeanstf = KMeansTF(n_clusters = n_themes, random_state = 21)\n",
    "labels_embeddings_tf = tf.convert_to_tensor(labels_embeddings)\n",
    "kmeanstf.fit(labels_embeddings_tf)"
   ],
   "metadata": {
    "execution": {
     "iopub.status.busy": "2022-09-08T19:56:40.039363Z",
     "iopub.status.idle": "2022-09-08T19:56:40.040190Z"
    },
    "trusted": true,
    "pycharm": {
     "name": "#%%\n"
    }
   },
   "execution_count": null,
   "outputs": []
  },
  {
   "cell_type": "code",
   "source": [
    "print(\"Silhouette metric score: {}\".format(silhouette_score(lab_emb_150d, kmeanstf.labels_)))\n",
    "\n",
    "cluster_centers = kmeanstf.cluster_centers_\n",
    "cluster_centers = cluster_centers.numpy()\n",
    "\n",
    "cluster_labels = kmeanstf.labels_.numpy() # labels of each point\n",
    "cluster_to_emb = dict()                        # making dictionary containing label of each cluster \n",
    "cluster_to_im = dict()                         # for the keys() and embeddings as elements of each cluster\n",
    "objid_cluster = dict()\n",
    "\n",
    "# we are going to make two dictionaries: cluster - embeddings of images; cluster - images distributions in cluster\n",
    "for ID in range(cluster_labels.shape[0]):\n",
    "    set_key(cluster_to_emb, cluster_labels[ID], labels_embeddings[ID].copy())\n",
    "    set_key(cluster_to_im, cluster_labels[ID], labels_all[ID].copy())\n",
    "    set_key(objid_cluster, all_ids[ID], cluster_labels[ID].copy())\n",
    "    if type(labels_all[ID]) != list:\n",
    "        print('f')\n",
    "        print(labels_all[ID])"
   ],
   "metadata": {
    "execution": {
     "iopub.status.busy": "2022-09-08T19:56:40.043454Z",
     "iopub.status.idle": "2022-09-08T19:56:40.044271Z"
    },
    "trusted": true,
    "pycharm": {
     "name": "#%%\n"
    }
   },
   "execution_count": null,
   "outputs": []
  },
  {
   "cell_type": "code",
   "source": [
    "# cluster_centers = dict()\n",
    "# for key, val in cluster_to_emb.items():\n",
    "#     center = np.zeros(labels_embeddings.shape[1])\n",
    "#     for emb in val:\n",
    "#         center = np.add(center, emb)\n",
    "#     center = np.divide(center, len(val))\n",
    "#     set_key(cluster_centers, key, center)"
   ],
   "metadata": {
    "execution": {
     "iopub.status.busy": "2022-09-08T19:56:40.045486Z",
     "iopub.status.idle": "2022-09-08T19:56:40.046307Z"
    },
    "trusted": true,
    "pycharm": {
     "name": "#%%\n"
    }
   },
   "execution_count": null,
   "outputs": []
  },
  {
   "cell_type": "code",
   "source": [
    "# for idcl_lab in range(len(cluster_labels)):\n",
    "#     if cluster_labels[idcl_lab] == 0:\n",
    "#         print (idcl_lab)"
   ],
   "metadata": {
    "execution": {
     "iopub.status.busy": "2022-09-08T19:56:40.047638Z",
     "iopub.status.idle": "2022-09-08T19:56:40.048572Z"
    },
    "trusted": true,
    "pycharm": {
     "name": "#%%\n"
    }
   },
   "execution_count": null,
   "outputs": []
  },
  {
   "cell_type": "markdown",
   "source": [
    "## ONLY FOR OLD MODEL DICTIONARY:\n"
   ],
   "metadata": {
    "pycharm": {
     "name": "#%% md\n"
    }
   }
  },
  {
   "cell_type": "code",
   "source": [
    "with open('../input/hyppr-images-mapping/category_to_posts_vision.p', 'rb') as f:   # opening given model\n",
    "    category_to_posts = pickle.load(f)\n",
    "category_to_posts = dict(category_to_posts)\n",
    "\n",
    "posts_to_category = dict()\n",
    "for cat, posts in category_to_posts.items():\n",
    "    for post in posts:\n",
    "        if post not in posts_to_category.keys():\n",
    "            set_key(posts_to_category, post, cat)"
   ],
   "metadata": {
    "execution": {
     "iopub.status.busy": "2022-09-08T19:56:40.049993Z",
     "iopub.status.idle": "2022-09-08T19:56:40.050795Z"
    },
    "trusted": true,
    "pycharm": {
     "name": "#%%\n"
    }
   },
   "execution_count": null,
   "outputs": []
  },
  {
   "cell_type": "markdown",
   "source": [
    "### Now we need to find closest vector to each of the given categories. Then we can map it.\n",
    "### We'll use ```cosine_similarity``` function from ```sklearn.metrics.pairwise``` for cosine similarity metric for it"
   ],
   "metadata": {
    "pycharm": {
     "name": "#%% md\n"
    }
   }
  },
  {
   "cell_type": "code",
   "source": [
    "cl_cent = []\n",
    "for i in range(n_themes):\n",
    "    temp_emb = np.zeros(labels_embeddings.shape[1])\n",
    "    for emb in cluster_to_emb[i]:\n",
    "        temp_emb = np.add(temp_emb, labels_embeddings[i])\n",
    "    cl_cent.append(np.divide(temp_emb, len(cluster_to_emb[i])) )"
   ],
   "metadata": {
    "execution": {
     "iopub.status.busy": "2022-09-08T19:56:40.057705Z",
     "iopub.status.idle": "2022-09-08T19:56:40.058506Z"
    },
    "trusted": true,
    "pycharm": {
     "name": "#%%\n"
    }
   },
   "execution_count": null,
   "outputs": []
  },
  {
   "cell_type": "code",
   "source": [
    "cl_cent = cluster_centers.copy()"
   ],
   "metadata": {
    "execution": {
     "iopub.status.busy": "2022-09-08T19:56:40.059685Z",
     "iopub.status.idle": "2022-09-08T19:56:40.060485Z"
    },
    "trusted": true,
    "pycharm": {
     "name": "#%%\n"
    }
   },
   "execution_count": null,
   "outputs": []
  },
  {
   "cell_type": "code",
   "source": [
    "most_similars = cosine_similarity(cat_embeddings, cl_cent)\n",
    "most_similars.shape"
   ],
   "metadata": {
    "execution": {
     "iopub.status.busy": "2022-09-08T19:56:40.061678Z",
     "iopub.status.idle": "2022-09-08T19:56:40.062478Z"
    },
    "trusted": true,
    "pycharm": {
     "name": "#%%\n"
    }
   },
   "execution_count": null,
   "outputs": []
  },
  {
   "cell_type": "markdown",
   "source": [
    "# Let see with first category and nearest element:"
   ],
   "metadata": {
    "pycharm": {
     "name": "#%% md\n"
    }
   }
  },
  {
   "cell_type": "code",
   "source": [
    "#print(np.round(most_similars, 8)[0])\n",
    "nearest_id = np.argmax(most_similars[0])\n",
    "\n",
    "nearest_id"
   ],
   "metadata": {
    "execution": {
     "iopub.status.busy": "2022-09-08T19:56:40.063719Z",
     "iopub.status.idle": "2022-09-08T19:56:40.064505Z"
    },
    "trusted": true,
    "pycharm": {
     "name": "#%%\n"
    }
   },
   "execution_count": null,
   "outputs": []
  },
  {
   "cell_type": "code",
   "source": [
    "cluster_to_im[182]"
   ],
   "metadata": {
    "execution": {
     "iopub.status.busy": "2022-09-08T19:56:40.065707Z",
     "iopub.status.idle": "2022-09-08T19:56:40.066510Z"
    },
    "trusted": true,
    "pycharm": {
     "name": "#%%\n"
    }
   },
   "execution_count": null,
   "outputs": []
  },
  {
   "cell_type": "code",
   "source": [
    "cats"
   ],
   "metadata": {
    "execution": {
     "iopub.status.busy": "2022-09-08T19:56:40.067739Z",
     "iopub.status.idle": "2022-09-08T19:56:40.068546Z"
    },
    "trusted": true,
    "pycharm": {
     "name": "#%%\n"
    }
   },
   "execution_count": null,
   "outputs": []
  },
  {
   "cell_type": "code",
   "source": [
    "cluster_to_im[10]"
   ],
   "metadata": {
    "execution": {
     "iopub.status.busy": "2022-09-08T19:56:40.069758Z",
     "iopub.status.idle": "2022-09-08T19:56:40.070567Z"
    },
    "trusted": true,
    "pycharm": {
     "name": "#%%\n"
    }
   },
   "execution_count": null,
   "outputs": []
  },
  {
   "cell_type": "code",
   "source": [
    "most_similars_indices = np.argmax(most_similars, axis = 1)\n",
    "curr_set_indices = np.arange(most_similars.shape[1]) # constructing a set for eleminating viewed parts"
   ],
   "metadata": {
    "execution": {
     "iopub.status.busy": "2022-09-08T19:56:40.071800Z",
     "iopub.status.idle": "2022-09-08T19:56:40.072683Z"
    },
    "trusted": true,
    "pycharm": {
     "name": "#%%\n"
    }
   },
   "execution_count": null,
   "outputs": []
  },
  {
   "cell_type": "code",
   "source": [
    "curr_set_indices = np.arange(most_similars.shape[1])\n",
    "sim_indices = []\n",
    "for i in range(min(most_similars.shape[0], most_similars.shape[1] ) ):   # we're bounded by n_clusters defined in KMeans. So max we can take n_clusters sim_indices. \n",
    "    # make a threshold, make something else\n",
    "    sim_ind_index_old_arr = np.argmax(most_similars[i][curr_set_indices]) # taking every row and finding non-visited max in this row\n",
    "    sim_ind = curr_set_indices[sim_ind_index_old_arr]\n",
    "    curr_set_indices = np.delete(curr_set_indices, sim_ind_index_old_arr)\n",
    "    sim_indices.append(sim_ind)\n",
    "\n",
    "sim_indices            # in this vec we have indices of most similar vectors of clusters for categories we were given"
   ],
   "metadata": {
    "execution": {
     "iopub.status.busy": "2022-09-08T19:56:40.074004Z",
     "iopub.status.idle": "2022-09-08T19:56:40.074800Z"
    },
    "trusted": true,
    "pycharm": {
     "name": "#%%\n"
    }
   },
   "execution_count": null,
   "outputs": []
  },
  {
   "cell_type": "markdown",
   "source": [
    "# QUALITY COMPARISON"
   ],
   "metadata": {
    "pycharm": {
     "name": "#%% md\n"
    }
   }
  },
  {
   "cell_type": "code",
   "source": [
    "from sklearn.metrics.pairwise import cosine_similarity as cos\n",
    "cos([lab_emb_150d[0]], [lab_emb_150d[4]])"
   ],
   "metadata": {
    "execution": {
     "iopub.status.busy": "2022-09-08T19:56:40.076040Z",
     "iopub.status.idle": "2022-09-08T19:56:40.076853Z"
    },
    "trusted": true,
    "pycharm": {
     "name": "#%%\n"
    }
   },
   "execution_count": null,
   "outputs": []
  },
  {
   "cell_type": "code",
   "source": [
    "cos_matrix = cos(cat_emb_150d, cluster_centers)\n",
    "cos_matrix"
   ],
   "metadata": {
    "execution": {
     "iopub.status.busy": "2022-09-08T19:56:40.078065Z",
     "iopub.status.idle": "2022-09-08T19:56:40.078869Z"
    },
    "trusted": true,
    "pycharm": {
     "name": "#%%\n"
    }
   },
   "execution_count": null,
   "outputs": []
  },
  {
   "cell_type": "code",
   "source": [
    "def indices_of_similarity(sim_matrix, metric):\n",
    "    curr_set_indices = np.arange(max(sim_matrix.shape))\n",
    "    \n",
    "    sim_indices = []\n",
    "    for i in range(min(sim_matrix.shape)):   # we're bounded by n_clusters defined in KMeans. So max we can take n_clusters sim_indices. \n",
    "        # make a threshold, make something else\n",
    "        if metric == 'euclidean':\n",
    "            sim_ind_index_old_arr = np.argmin(sim_matrix[i][curr_set_indices]) # taking every row and finding non-visited max in this row\n",
    "        elif metric == 'cosine':\n",
    "            sim_ind_index_old_arr = np.argmax(sim_matrix[i][curr_set_indices])\n",
    "        sim_ind = curr_set_indices[sim_ind_index_old_arr]\n",
    "        curr_set_indices = np.delete(curr_set_indices, sim_ind_index_old_arr)\n",
    "        sim_indices.append(sim_ind)\n",
    "\n",
    "    return sim_indices  "
   ],
   "metadata": {
    "execution": {
     "iopub.status.busy": "2022-09-08T19:56:40.080104Z",
     "iopub.status.idle": "2022-09-08T19:56:40.080921Z"
    },
    "trusted": true,
    "pycharm": {
     "name": "#%%\n"
    }
   },
   "execution_count": null,
   "outputs": []
  },
  {
   "cell_type": "code",
   "source": [
    "cos_sim = indices_of_similarity(most_similars, 'cosine')\n",
    "most_similar = cos_sim"
   ],
   "metadata": {
    "execution": {
     "iopub.status.busy": "2022-09-08T19:56:40.082141Z",
     "iopub.status.idle": "2022-09-08T19:56:40.082921Z"
    },
    "trusted": true,
    "pycharm": {
     "name": "#%%\n"
    }
   },
   "execution_count": null,
   "outputs": []
  },
  {
   "cell_type": "code",
   "source": [
    "most_similar"
   ],
   "metadata": {
    "execution": {
     "iopub.status.busy": "2022-09-08T19:56:40.084142Z",
     "iopub.status.idle": "2022-09-08T19:56:40.084932Z"
    },
    "trusted": true,
    "pycharm": {
     "name": "#%%\n"
    }
   },
   "execution_count": null,
   "outputs": []
  },
  {
   "cell_type": "code",
   "source": [
    "cluster_to_im[154]"
   ],
   "metadata": {
    "execution": {
     "iopub.status.busy": "2022-09-08T19:56:40.086158Z",
     "iopub.status.idle": "2022-09-08T19:56:40.086957Z"
    },
    "trusted": true,
    "pycharm": {
     "name": "#%%\n"
    }
   },
   "execution_count": null,
   "outputs": []
  },
  {
   "cell_type": "code",
   "source": [
    "sum1 = 0\n",
    "for ind in most_similar:\n",
    "    sum1 += len(cluster_to_im[ind])\n",
    "sum1"
   ],
   "metadata": {
    "execution": {
     "iopub.status.busy": "2022-09-08T19:56:40.088212Z",
     "iopub.status.idle": "2022-09-08T19:56:40.088991Z"
    },
    "trusted": true,
    "pycharm": {
     "name": "#%%\n"
    }
   },
   "execution_count": null,
   "outputs": []
  },
  {
   "cell_type": "code",
   "source": [
    "objid_category = dict()   # resulting dictionary\n",
    "for objid, clusterid in objid_cluster.items():\n",
    "    sim_category_id = 0\n",
    "    if clusterid in most_similar:\n",
    "        sim_category_id = most_similar.index(clusterid)\n",
    "                                          # we can interpretate it next way: \"most similar TO cluster with index <index of cluster>\"\n",
    "        category_similar = categories[sim_category_id][0]    # we have a list with categories distributions.  \\ \n",
    "                                                                # We take only first element --- true similar string of category\n",
    "        set_key(objid_category, objid, category_similar)\n",
    "        \n",
    "category_objid = dict()\n",
    "for objid, cat in objid_category.items():\n",
    "    set_key(category_objid, cat, objid)"
   ],
   "metadata": {
    "execution": {
     "iopub.status.busy": "2022-09-08T19:56:40.090393Z",
     "iopub.status.idle": "2022-09-08T19:56:40.091194Z"
    },
    "trusted": true,
    "pycharm": {
     "name": "#%%\n"
    }
   },
   "execution_count": null,
   "outputs": []
  },
  {
   "cell_type": "code",
   "source": [
    "with open('../input/hyppr-images-mapping/category_to_posts_vision.p', 'rb') as f:   # opening given model\n",
    "    category_to_posts = pickle.load(f)\n",
    "category_to_posts = dict(category_to_posts)\n",
    "with open('../input/hyppr-images-mapping/objid_postid.p', 'rb') as f:   # opening for making category_postid dictionary\n",
    "    objid_postid = pickle.load(f)"
   ],
   "metadata": {
    "execution": {
     "iopub.status.busy": "2022-09-08T19:56:40.092436Z",
     "iopub.status.idle": "2022-09-08T19:56:40.093257Z"
    },
    "trusted": true,
    "pycharm": {
     "name": "#%%\n"
    }
   },
   "execution_count": null,
   "outputs": []
  },
  {
   "cell_type": "code",
   "source": [
    "len(objid_postid)"
   ],
   "metadata": {
    "execution": {
     "iopub.status.busy": "2022-09-08T19:56:40.094444Z",
     "iopub.status.idle": "2022-09-08T19:56:40.095247Z"
    },
    "trusted": true,
    "pycharm": {
     "name": "#%%\n"
    }
   },
   "execution_count": null,
   "outputs": []
  },
  {
   "cell_type": "code",
   "source": [
    "category_postid = dict()\n",
    "no_obj = 0\n",
    "for cat, objid in category_objid.items():\n",
    "    for obj in objid:\n",
    "        try:\n",
    "            set_key(category_postid, cat, objid_postid[obj])\n",
    "        except KeyError as e:\n",
    "            #print(KeyError)\n",
    "            no_obj += 1\n",
    "print(no_obj)"
   ],
   "metadata": {
    "execution": {
     "iopub.status.busy": "2022-09-08T19:56:40.096446Z",
     "iopub.status.idle": "2022-09-08T19:56:40.097293Z"
    },
    "trusted": true,
    "pycharm": {
     "name": "#%%\n"
    }
   },
   "execution_count": null,
   "outputs": []
  },
  {
   "cell_type": "code",
   "source": [
    "num_els = 0\n",
    "for cat, idlist in category_postid.items():\n",
    "    num_els += len(idlist)\n",
    "num_els"
   ],
   "metadata": {
    "execution": {
     "iopub.status.busy": "2022-09-08T19:56:40.098553Z",
     "iopub.status.idle": "2022-09-08T19:56:40.099346Z"
    },
    "trusted": true,
    "pycharm": {
     "name": "#%%\n"
    }
   },
   "execution_count": null,
   "outputs": []
  },
  {
   "cell_type": "code",
   "source": [
    "num_els = 0\n",
    "for cat, idlist in category_to_posts.items():\n",
    "    num_els += len(idlist)\n",
    "num_els"
   ],
   "metadata": {
    "execution": {
     "iopub.status.busy": "2022-09-08T19:56:40.100526Z",
     "iopub.status.idle": "2022-09-08T19:56:40.101491Z"
    },
    "trusted": true,
    "pycharm": {
     "name": "#%%\n"
    }
   },
   "execution_count": null,
   "outputs": []
  },
  {
   "cell_type": "code",
   "source": [
    "right = 0\n",
    "for cat, idlist in category_to_posts.items():\n",
    "    for idpost in idlist:\n",
    "        if idpost in category_postid[cat]:\n",
    "            right += 1   \n",
    "right"
   ],
   "metadata": {
    "execution": {
     "iopub.status.busy": "2022-09-08T19:56:40.102744Z",
     "iopub.status.idle": "2022-09-08T19:56:40.103552Z"
    },
    "trusted": true,
    "pycharm": {
     "name": "#%%\n"
    }
   },
   "execution_count": null,
   "outputs": []
  },
  {
   "cell_type": "code",
   "source": [
    "with open(\"./objid_category.p\", \"wb\") as f:\n",
    "    pickle.dump(objid_category, f)"
   ],
   "metadata": {
    "execution": {
     "iopub.status.busy": "2022-09-08T19:56:40.104767Z",
     "iopub.status.idle": "2022-09-08T19:56:40.105577Z"
    },
    "trusted": true,
    "pycharm": {
     "name": "#%%\n"
    }
   },
   "execution_count": null,
   "outputs": []
  },
  {
   "cell_type": "markdown",
   "source": [
    "## Doing reverse dictionaries:"
   ],
   "metadata": {
    "pycharm": {
     "name": "#%% md\n"
    }
   }
  },
  {
   "cell_type": "code",
   "source": [
    "posts_to_category = dict()\n",
    "postid_category = dict()\n",
    "\n",
    "for cat, posts in category_to_posts.items():\n",
    "    for post in posts:\n",
    "        set_key(posts_to_category, post, cat)\n",
    "    \n",
    "for cat, posts in category_postid.items():\n",
    "    for post in posts:\n",
    "        set_key(postid_category, post, cat)"
   ],
   "metadata": {
    "execution": {
     "iopub.status.busy": "2022-09-08T19:56:40.106783Z",
     "iopub.status.idle": "2022-09-08T19:56:40.107589Z"
    },
    "trusted": true,
    "pycharm": {
     "name": "#%%\n"
    }
   },
   "execution_count": null,
   "outputs": []
  },
  {
   "cell_type": "code",
   "source": [
    "with open(\"../input/hyppr-images-mapping/objid_mark_category.p\", \"rb\") as f:\n",
    "       objid_mark_category = pickle.load(f)\n",
    "with open(\"../input/hyppr-images-mapping/yRight.p\", \"rb\") as f:\n",
    "       yRight = pickle.load(f)\n",
    "with open(\"../input/hyppr-images-mapping/objid_postid.p\", \"rb\") as f:\n",
    "    objid_postid = pickle.load(f)\n",
    "# reverse:\n",
    "postid_objid = dict()\n",
    "for objid, postid in objid_postid.items():\n",
    "    set_key(postid_objid, postid, objid)\n",
    "with open(\"../input/hyppr-images-mapping/postid_objurls.p\", \"rb\") as f:\n",
    "    postid_objurls = pickle.load(f)"
   ],
   "metadata": {
    "execution": {
     "iopub.status.busy": "2022-09-08T19:56:40.108810Z",
     "iopub.status.idle": "2022-09-08T19:56:40.109602Z"
    },
    "trusted": true,
    "pycharm": {
     "name": "#%%\n"
    }
   },
   "execution_count": null,
   "outputs": []
  },
  {
   "cell_type": "code",
   "source": [
    "yDef,yNew = [], []\n",
    "no_post, no_topic, no_labels = 0, 0, 0\n",
    "arguable_data = dict()\n",
    "sec_dict_values = dict()\n",
    "for post, cat in posts_to_category.items():\n",
    "    no_data = False\n",
    "    if post in postid_objid.keys():        \n",
    "        objid = postid_objid[post]\n",
    "        if objid in objid_category.keys():\n",
    "            cat_from_new_model = objid_category[objid]\n",
    "            yNew.append(cat_from_new_model)\n",
    "        else:\n",
    "            no_topic += 1\n",
    "            yNew.append('none')\n",
    "    else:\n",
    "        no_post += 1\n",
    "        no_data = True\n",
    "        \n",
    "    if no_data is False:\n",
    "        objid = postid_objid[post]\n",
    "        if objid in objid_mark_category.keys():\n",
    "            yDef.append(objid_mark_category[objid])\n",
    "        elif type(cat) is list:\n",
    "            yDef.append(cat[0])\n",
    "            no_labels +=1\n",
    "        else:\n",
    "            yDef.append(cat)\n",
    "            no_labels +=1\n",
    "        if yNew[-1] != yDef[-1]:   # creating distributions  for arguable_data\n",
    "            url = postid_objurls[post]\n",
    "            if type(url) == list:\n",
    "                url = url[0]\n",
    "            \n",
    "#             set_key(arguable_data, cat, url)\n",
    "#             set_key(sec_dict_values, cat, yNew[-1])\n",
    "print('There is {} post missing'.format(no_post))\n",
    "print('There is {} obj to topic missing'.format(no_topic))"
   ],
   "metadata": {
    "execution": {
     "iopub.status.busy": "2022-09-08T19:56:40.110953Z",
     "iopub.status.idle": "2022-09-08T19:56:40.111851Z"
    },
    "trusted": true,
    "pycharm": {
     "name": "#%%\n"
    }
   },
   "execution_count": null,
   "outputs": []
  },
  {
   "cell_type": "code",
   "source": [
    "len(yDef)"
   ],
   "metadata": {
    "execution": {
     "iopub.status.busy": "2022-09-08T19:56:40.113060Z",
     "iopub.status.idle": "2022-09-08T19:56:40.113881Z"
    },
    "trusted": true,
    "pycharm": {
     "name": "#%%\n"
    }
   },
   "execution_count": null,
   "outputs": []
  },
  {
   "cell_type": "code",
   "source": [
    "#visible_obj = [cat for cat, posts in category_to_posts.items()]   # len of category_to_posts is 10 so we need to truncate \n",
    "                                                                    # len of BERT model result\n",
    "yDef = list()\n",
    "yBert = list()\n",
    "\n",
    "for post, cat in posts_to_category.items():\n",
    "    if post in postid_category.keys():\n",
    "        el = postid_category[post]\n",
    "        if type(el) is list:\n",
    "            yBert.append(el[0])\n",
    "        else:\n",
    "            yBert.append(el)\n",
    "    else:\n",
    "        yBert.append('none')\n",
    "        \n",
    "    if type(cat) is list:\n",
    "        yDef.append(cat[0])\n",
    "    else:\n",
    "        yDef.append(cat)\n",
    "# for post, cat in postid_category.items():\n",
    "#     if post in posts_to_category.keys():\n",
    "#         pass\n",
    "#     else:\n",
    "#         yBert.append(cat)\n",
    "#         yDef.append('none')"
   ],
   "metadata": {
    "execution": {
     "iopub.status.busy": "2022-09-08T19:56:40.115103Z",
     "iopub.status.idle": "2022-09-08T19:56:40.115919Z"
    },
    "trusted": true,
    "pycharm": {
     "name": "#%%\n"
    }
   },
   "execution_count": null,
   "outputs": []
  },
  {
   "cell_type": "code",
   "source": [
    "nodata = ['dance', 'entertainment', 'tech']  # we don't have data on cite for this categories so we can't consider data communicated with it\n",
    "cats = [cat[0] for cat in categories if cat[0] not in nodata]   # so we just throw it away\n",
    "cats.append('none')"
   ],
   "metadata": {
    "execution": {
     "iopub.status.busy": "2022-09-08T19:56:40.117264Z",
     "iopub.status.idle": "2022-09-08T19:56:40.118182Z"
    },
    "trusted": true,
    "pycharm": {
     "name": "#%%\n"
    }
   },
   "execution_count": null,
   "outputs": []
  },
  {
   "cell_type": "code",
   "source": [
    "from sklearn.metrics import confusion_matrix\n",
    "\n",
    "conf_matr = confusion_matrix(yDef, yNew, labels = cats)"
   ],
   "metadata": {
    "execution": {
     "iopub.status.busy": "2022-09-08T19:56:40.119532Z",
     "iopub.status.idle": "2022-09-08T19:56:40.120446Z"
    },
    "trusted": true,
    "pycharm": {
     "name": "#%%\n"
    }
   },
   "execution_count": null,
   "outputs": []
  },
  {
   "cell_type": "code",
   "source": [
    "import seaborn as sn\n",
    "import pandas as pd\n",
    "import matplotlib.pyplot as plt\n",
    "\n",
    "df_cm = pd.DataFrame(conf_matr, index = [i for i in range(len(cats))],\n",
    "                  columns = [i for i in range(len(cats))])\n",
    "plt.figure(figsize = (10,7))\n",
    "sn.heatmap(df_cm,cmap=\"YlGnBu\",linewidths=1, annot=True, fmt = 'd')\n",
    "plt.savefig('bertresult.png', bbox_inches = 'tight')"
   ],
   "metadata": {
    "execution": {
     "iopub.status.busy": "2022-09-08T19:56:40.121819Z",
     "iopub.status.idle": "2022-09-08T19:56:40.122603Z"
    },
    "trusted": true,
    "pycharm": {
     "name": "#%%\n"
    }
   },
   "execution_count": null,
   "outputs": []
  },
  {
   "cell_type": "code",
   "source": [
    "from sklearn.metrics import f1_score, precision_score, recall_score\n",
    "\n",
    "f1_score(yDef,yNew, labels = cats, average = 'micro')"
   ],
   "metadata": {
    "execution": {
     "iopub.status.busy": "2022-09-08T19:56:40.123825Z",
     "iopub.status.idle": "2022-09-08T19:56:40.124631Z"
    },
    "trusted": true,
    "pycharm": {
     "name": "#%%\n"
    }
   },
   "execution_count": null,
   "outputs": []
  }
 ]
}